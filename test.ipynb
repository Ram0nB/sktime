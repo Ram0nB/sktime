{
 "cells": [
  {
   "cell_type": "code",
   "execution_count": 7,
   "metadata": {},
   "outputs": [
    {
     "data": {
      "text/html": [
       "<div>\n",
       "<style scoped>\n",
       "    .dataframe tbody tr th:only-of-type {\n",
       "        vertical-align: middle;\n",
       "    }\n",
       "\n",
       "    .dataframe tbody tr th {\n",
       "        vertical-align: top;\n",
       "    }\n",
       "\n",
       "    .dataframe thead tr th {\n",
       "        text-align: left;\n",
       "    }\n",
       "</style>\n",
       "<table border=\"1\" class=\"dataframe\">\n",
       "  <thead>\n",
       "    <tr>\n",
       "      <th></th>\n",
       "      <th colspan=\"4\" halign=\"left\">Number of airline passengers</th>\n",
       "    </tr>\n",
       "    <tr>\n",
       "      <th></th>\n",
       "      <th>0.2</th>\n",
       "      <th>0.4</th>\n",
       "      <th>0.6</th>\n",
       "      <th>0.8</th>\n",
       "    </tr>\n",
       "  </thead>\n",
       "  <tbody>\n",
       "    <tr>\n",
       "      <th>1961-01</th>\n",
       "      <td>406.092096</td>\n",
       "      <td>424.420693</td>\n",
       "      <td>451.978170</td>\n",
       "      <td>483.242568</td>\n",
       "    </tr>\n",
       "    <tr>\n",
       "      <th>1961-02</th>\n",
       "      <td>400.485597</td>\n",
       "      <td>433.048268</td>\n",
       "      <td>488.879717</td>\n",
       "      <td>492.699910</td>\n",
       "    </tr>\n",
       "    <tr>\n",
       "      <th>1961-03</th>\n",
       "      <td>428.908820</td>\n",
       "      <td>454.439166</td>\n",
       "      <td>472.142841</td>\n",
       "      <td>481.930738</td>\n",
       "    </tr>\n",
       "  </tbody>\n",
       "</table>\n",
       "</div>"
      ],
      "text/plain": [
       "        Number of airline passengers                                    \n",
       "                                 0.2         0.4         0.6         0.8\n",
       "1961-01                   406.092096  424.420693  451.978170  483.242568\n",
       "1961-02                   400.485597  433.048268  488.879717  492.699910\n",
       "1961-03                   428.908820  454.439166  472.142841  481.930738"
      ]
     },
     "execution_count": 7,
     "metadata": {},
     "output_type": "execute_result"
    }
   ],
   "source": [
    "from sktime.forecasting.compose import DirectTabularRegressionForecaster\n",
    "from sklearn.linear_model import QuantileRegressor\n",
    "from sktime.datasets import load_airline\n",
    "import pandas as pd\n",
    "y = load_airline()\n",
    "alpha = [i/5 for i in range(1, 5)]\n",
    "q_preds = []\n",
    "for a in alpha:\n",
    "    qregressor = QuantileRegressor(quantile=a, solver=\"highs-ds\")\n",
    "    forecaster = DirectTabularRegressionForecaster(qregressor)\n",
    "    forecaster.fit(y, fh=[1, 2, 3])\n",
    "    pred = forecaster.predict(fh=[1,2,3])\n",
    "    q_preds.append(pred.rename(a))\n",
    "q_preds = pd.concat(q_preds, axis=1)\n",
    "q_preds.columns = pd.MultiIndex.from_product([[y.name], q_preds.columns])\n",
    "q_preds"
   ]
  }
 ],
 "metadata": {
  "kernelspec": {
   "display_name": "sktime-dev",
   "language": "python",
   "name": "python3"
  },
  "language_info": {
   "codemirror_mode": {
    "name": "ipython",
    "version": 3
   },
   "file_extension": ".py",
   "mimetype": "text/x-python",
   "name": "python",
   "nbconvert_exporter": "python",
   "pygments_lexer": "ipython3",
   "version": "3.8.17"
  },
  "orig_nbformat": 4
 },
 "nbformat": 4,
 "nbformat_minor": 2
}
